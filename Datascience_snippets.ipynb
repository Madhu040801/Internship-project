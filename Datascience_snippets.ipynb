{
  "cells": [
    {
      "cell_type": "code",
      "execution_count": null,
      "id": "0c9bbf0b",
      "metadata": {
        "id": "0c9bbf0b",
        "outputId": "ee31220f-0331-4385-9c6f-790159ffcdff"
      },
      "outputs": [
        {
          "name": "stdout",
          "output_type": "stream",
          "text": [
            "Hello World !!\n",
            "[1, 2, 9, 3, 4, 5]\n"
          ]
        }
      ],
      "source": [
        "a = [1,2,9,3,4,5]\n",
        "print(\"Hello World !!\")\n",
        "print(a)\n",
        "\n"
      ]
    },
    {
      "cell_type": "code",
      "execution_count": null,
      "id": "1875c629",
      "metadata": {
        "id": "1875c629"
      },
      "outputs": [],
      "source": [
        "b = [\"hi\",\"asdf\"]"
      ]
    },
    {
      "cell_type": "code",
      "execution_count": null,
      "id": "b03df503",
      "metadata": {
        "id": "b03df503",
        "outputId": "56d26564-6111-4ff6-b8b8-c0b7493e5dfe"
      },
      "outputs": [
        {
          "name": "stdout",
          "output_type": "stream",
          "text": [
            "['hi', 'asdf']\n"
          ]
        }
      ],
      "source": [
        "print(b)"
      ]
    },
    {
      "cell_type": "code",
      "execution_count": null,
      "id": "04a99767",
      "metadata": {
        "id": "04a99767",
        "outputId": "48212a19-09e6-4e03-f553-105f8dd8aed1"
      },
      "outputs": [
        {
          "data": {
            "image/png": "[encoded data removed]",
            "text/plain": [
              "<Figure size 432x288 with 1 Axes>"
            ]
          },
          "metadata": {
            "needs_background": "light"
          },
          "output_type": "display_data"
        }
      ],
      "source": [
        "import matplotlib.pyplot as plt\n",
        "import numpy as np\n",
        "\n",
        "# Data for plotting\n",
        "t = np.arange(0.0, 2.0, 0.01)\n",
        "s = 1 + np.sin(2 * np.pi * t)\n",
        "\n",
        "fig, ax = plt.subplots()\n",
        "ax.plot(t, s)\n",
        "\n",
        "ax.set(xlabel='timing in seconds', ylabel='RMS Voltage',\n",
        "       title='Sine Graph')\n",
        "ax.grid()\n",
        "\n",
        "fig.savefig(\"test.png\")\n",
        "plt.show()\n"
      ]
    },
    {
      "cell_type": "code",
      "execution_count": null,
      "id": "38c18cae",
      "metadata": {
        "id": "38c18cae",
        "outputId": "122639d0-0d1c-4ae4-9625-461f63fc0dda"
      },
      "outputs": [
        {
          "name": "stdout",
          "output_type": "stream",
          "text": [
            "ello\n",
            "He\n"
          ]
        }
      ],
      "source": [
        "\n",
        "a = \"Hello\"\n",
        "\n",
        "print(a[1:])  #ello\n",
        "\n",
        "print(a[:2])  #Hell\n"
      ]
    },
    {
      "cell_type": "code",
      "execution_count": null,
      "id": "848a3e60",
      "metadata": {
        "scrolled": true,
        "id": "848a3e60",
        "outputId": "77f2ad00-239d-4bc5-f959-b21b2e1a3530"
      },
      "outputs": [
        {
          "name": "stdout",
          "output_type": "stream",
          "text": [
            "  Duration,Pulse,Calories\n",
            "0         60,110,,130,409\n",
            "1          60,117,145,479\n",
            "2          60,103,135,340\n"
          ]
        }
      ],
      "source": [
        "import pandas\n",
        "\n",
        "\n",
        "a = pandas.read_csv(\"data1.csv\",header = 0,sep = \"*\")\n",
        "\n",
        "print(a)"
      ]
    },
    {
      "cell_type": "code",
      "execution_count": null,
      "id": "c7f0465c",
      "metadata": {
        "id": "c7f0465c",
        "outputId": "749c191b-e84a-452c-caf9-c828b0018a22"
      },
      "outputs": [
        {
          "name": "stdout",
          "output_type": "stream",
          "text": [
            "     1  one  01-12-20  100\n",
            "0    2  one  02-12-20  100\n",
            "1    3  one  03-12-20  100\n",
            "2    4  one  04-12-20  100\n",
            "3    5  one  05-12-20  100\n",
            "4    6  one  06-12-20  100\n",
            "..  ..  ...       ...  ...\n",
            "81  83  two  21-02-21  112\n",
            "82  84  one  22-02-21  113\n",
            "83  85  one  23-02-21  114\n",
            "84  86  one  24-02-21  115\n",
            "85  87  two  25-02-21  116\n",
            "\n",
            "[86 rows x 4 columns]\n"
          ]
        }
      ],
      "source": [
        "import pandas\n",
        "\n",
        "\n",
        "a = pandas.read_csv(\"data.csv\",header = 1,sep = \",\")\n",
        "\n",
        "print(a)"
      ]
    },
    {
      "cell_type": "code",
      "execution_count": null,
      "id": "40e7f52b",
      "metadata": {
        "scrolled": true,
        "id": "40e7f52b",
        "outputId": "e46fb131-3693-4f93-dfe6-897f9bf64bca"
      },
      "outputs": [
        {
          "name": "stdout",
          "output_type": "stream",
          "text": [
            "Mean:\n",
            "137.4\n",
            "SD:3\n"
          ]
        }
      ],
      "source": [
        "import numpy\n",
        "speed = [90,100,45,8,8,10,5,200,8,900]\n",
        "\n",
        "m = numpy.mean(speed)\n",
        "\n",
        "b = speed.count(8)\n",
        "\n",
        "print(\"Mean:\")\n",
        "print(m)\n",
        "print(\"SD:\" + str(b))\n"
      ]
    },
    {
      "cell_type": "code",
      "execution_count": null,
      "id": "7b1e62a9",
      "metadata": {
        "id": "7b1e62a9",
        "outputId": "ab4bc89e-fb0f-4a93-fdec-e490ec59a779"
      },
      "outputs": [
        {
          "name": "stdout",
          "output_type": "stream",
          "text": [
            "0    1\n",
            "1    7\n",
            "2    2\n",
            "dtype: int64\n"
          ]
        }
      ],
      "source": [
        "import pandas\n",
        "a = [1,7,2]\n",
        "a = pandas.Series(a)\n",
        "print(a)"
      ]
    },
    {
      "cell_type": "code",
      "execution_count": null,
      "id": "a8395b8d",
      "metadata": {
        "id": "a8395b8d",
        "outputId": "3d2dd564-5e21-4f9b-ac95-cd8c9ddb58dc"
      },
      "outputs": [
        {
          "name": "stdout",
          "output_type": "stream",
          "text": [
            "x    1\n",
            "y    7\n",
            "z    2\n",
            "dtype: int64\n"
          ]
        }
      ],
      "source": [
        "import pandas\n",
        "a = [1,7,2]\n",
        "a = pandas.Series(a,index = [\"x\",\"y\",\"z\"])\n",
        "print(a)"
      ]
    },
    {
      "cell_type": "code",
      "execution_count": null,
      "id": "147df254",
      "metadata": {
        "id": "147df254",
        "outputId": "16d70428-746c-4f85-dcd1-04a9001262e4"
      },
      "outputs": [
        {
          "name": "stdout",
          "output_type": "stream",
          "text": [
            "7\n"
          ]
        }
      ],
      "source": [
        "print(a[\"y\"])"
      ]
    },
    {
      "cell_type": "code",
      "execution_count": null,
      "id": "34709917",
      "metadata": {
        "scrolled": true,
        "id": "34709917",
        "outputId": "38953cd1-ebad-4541-f785-e2e292a64152"
      },
      "outputs": [
        {
          "name": "stdout",
          "output_type": "stream",
          "text": [
            "day1    400\n",
            "day2    385\n",
            "day3    500\n",
            "dtype: int64\n"
          ]
        }
      ],
      "source": [
        "import pandas\n",
        "fat = {\"day1\": 400, \"day2\": 385,\"day3\": 500}\n",
        "a = pandas.Series(fat)\n",
        "print(a)"
      ]
    },
    {
      "cell_type": "code",
      "execution_count": null,
      "id": "a071a5ac",
      "metadata": {
        "scrolled": true,
        "id": "a071a5ac",
        "outputId": "cc805da8-27ed-4c9b-afd8-007d602e114e"
      },
      "outputs": [
        {
          "name": "stdout",
          "output_type": "stream",
          "text": [
            "      fat  duration\n",
            "day1  420        30\n",
            "day2  380        40\n",
            "day3  395        50\n"
          ]
        }
      ],
      "source": [
        "import pandas\n",
        "fat = {\n",
        "\n",
        "    \"fat\": [420,380,395],\n",
        "    \"duration\": [30,40,50]\n",
        "\n",
        "\n",
        "\n",
        "}\n",
        "\n",
        "\n",
        "\n",
        "#a = pandas.Series(fat,index = [\"day1\",\"day2\"])\n",
        "\n",
        "a = pandas.DataFrame(fat, index= [\"day1\",\"day2\",\"day3\"])\n",
        "\n",
        "#a = pandas.DataFrame(fat,index = [\"day1\",\"day2\"])\n",
        "print(a)\n",
        "\n",
        "\n",
        "\n",
        "\n",
        ""
      ]
    },
    {
      "cell_type": "code",
      "execution_count": null,
      "id": "0d3e316e",
      "metadata": {
        "id": "0d3e316e",
        "outputId": "acf95b2d-42db-4ad1-802b-01ce7e535e73"
      },
      "outputs": [
        {
          "name": "stdout",
          "output_type": "stream",
          "text": [
            "   Duration  Pulse  Steps\n",
            "0        60    600   6000\n",
            "1        65    645   6445\n",
            "2        70    760   7560\n"
          ]
        }
      ],
      "source": [
        "import pandas\n",
        "\n",
        "\n",
        "\n",
        "data = {\n",
        "\n",
        "\t\"Duration\":{\n",
        "  \t  \"0\":60,\n",
        "\t  \"1\":65,\n",
        "\t  \"2\":70\n",
        "\n",
        "},\n",
        "\t\"Pulse\":{\n",
        "  \t  \"0\":600,\n",
        "\t  \"1\":645,\n",
        "\t  \"2\":760\n",
        "\n",
        "},\n",
        "\t\"Steps\":{\n",
        "  \t  \"0\":6000,\n",
        "\t  \"1\":6445,\n",
        "\t  \"2\":7560\n",
        "\n",
        "}\n",
        "\n",
        "}\n",
        "#df = pandas.read_json('JsonDataset.json')\n",
        "df = pandas.DataFrame(data)\n",
        "print(df)\n",
        "\n",
        "\n",
        "\n"
      ]
    },
    {
      "cell_type": "code",
      "execution_count": null,
      "id": "9e66e046",
      "metadata": {
        "scrolled": false,
        "id": "9e66e046",
        "outputId": "f2374d39-70d3-4d4e-86c2-a88522bbf9be"
      },
      "outputs": [
        {
          "name": "stdout",
          "output_type": "stream",
          "text": [
            "    number string      Date  Duration\n",
            "0        1    one  01-12-20       100\n",
            "1        2    one  02-12-20       100\n",
            "2        3    one  03-12-20       100\n",
            "3        4    one  04-12-20       100\n",
            "4        5    one  05-12-20       100\n",
            "5        6    one  06-12-20       100\n",
            "6        7    one  07-12-20       100\n",
            "7        8    one  08-12-20       100\n",
            "8        9    one  09-12-20       100\n",
            "9       10    one  10-12-20       100\n",
            "10      11    one  11-12-20       100\n",
            "11      12    one  12-12-20       100\n",
            "12      13    two  13-12-20       100\n",
            "13      14    one  25-11-50       100\n",
            "14      15    two  15-12-20       100\n",
            "15      16    two  16-12-20       100\n",
            "16      17    one  17-12-20       100\n",
            "17      18    two  18-12-20       100\n",
            "18      19    two  19-12-21       100\n",
            "19      20    one  03-01-00       100\n",
            "20      21    two  21-12-20       100\n",
            "21      22    two    111220       100\n",
            "22      23    one  23-12-20       100\n",
            "23      24    two  24-12-20       100\n",
            "24      25    two  25-12-20       100\n",
            "25      26    one  26-12-20       100\n",
            "26      27    two  27-12-20       100\n",
            "27      28    two  28-12-20       100\n",
            "28      29    one  02-12-20       100\n",
            "29      30    two  30-12-20       100\n",
            "30      31    two  31-12-20       100\n",
            "31      32    one  01-01-21       100\n",
            "32      33    two  02-01-21       100\n",
            "33      34    two  03-01-21       100\n",
            "34      35    one  04-01-21       100\n",
            "35      36    two  05-01-21       100\n",
            "36      37    two  06-01-21       100\n",
            "37      38    one  07-01-21       100\n",
            "38      39    two  08-01-21       100\n",
            "39      40    two  09-01-21       100\n",
            "40      41    one  10-01-21       100\n",
            "41      42    two  11-01-21       100\n",
            "42      43    two  12-01-21       100\n",
            "43      44    one  13-01-21       100\n",
            "44      45    two  14-01-21       100\n",
            "45      46    two  15-01-21       100\n",
            "46      47    one  16-01-21       100\n",
            "47      48    two  23-12-20       100\n",
            "48      49    two  18-01-21       100\n",
            "49      50    one  19-01-21       100\n",
            "50      51    two  20-01-21       100\n",
            "51      52    two  21-01-21       100\n",
            "52      53    one  22-01-21       100\n",
            "53      54    two  23-01-21       100\n",
            "54      55    two  24-01-21       100\n",
            "55      56    one  25-01-21       100\n",
            "56      57    two  26-01-21       100\n",
            "57      58    two  27-01-21       100\n",
            "58      59    one  28-01-21       100\n",
            "59      60    two  29-01-21       100\n",
            "60      61    two  30-01-21       100\n",
            "61      62    one  31-01-21       100\n",
            "62      63    two  01-02-21       100\n",
            "63      64    two  02-02-21       100\n",
            "64      65    one  03-02-21       100\n",
            "65      66    two  04-02-21       100\n",
            "66      67    two  05-02-21       100\n",
            "67      68    one  06-02-21        97\n",
            "68      69    two  15-01-21        98\n",
            "69      70    two  08-02-21        99\n",
            "70      71    one  09-02-21       100\n",
            "71      72    two  10-02-21       101\n",
            "72      73    two  11-02-21       102\n",
            "73      74    one  12-02-21       103\n",
            "74      75    two  13-02-21       104\n",
            "75      76    one  14-02-21       105\n",
            "76      77    two  15-02-21       106\n",
            "77      78    one  16-02-21       107\n",
            "78      79    one  17-02-21       108\n",
            "79      80    one  18-02-21       109\n",
            "80      81    two  19-02-21       110\n",
            "81      82    one  20-02-21       111\n",
            "82      83    two  21-02-21       112\n",
            "83      84    one  22-02-21       113\n",
            "84      85    one  23-02-21       114\n",
            "85      86    one  24-02-21       115\n",
            "86      87    two  25-02-21       116\n"
          ]
        }
      ],
      "source": [
        "import pandas\n",
        "\n",
        "\n",
        "a = pandas.read_csv(\"data.csv\")\n",
        "x = a.dropna()\n",
        "\n",
        "print(x.to_string())\n",
        "\n"
      ]
    },
    {
      "cell_type": "code",
      "execution_count": null,
      "id": "1b4f85ed",
      "metadata": {
        "id": "1b4f85ed",
        "outputId": "1bee8cab-54de-4476-bdff-2fee6a99130e"
      },
      "outputs": [
        {
          "name": "stdout",
          "output_type": "stream",
          "text": [
            "44.0\n"
          ]
        }
      ],
      "source": [
        "import pandas\n",
        "\n",
        "\n",
        "a = pandas.read_csv(\"data.csv\")\n",
        "\n",
        "x = a[\"number\"].median()\n",
        "\n",
        "a[\"number\"].fillna(\"xyz\",inplace=True)\n",
        "\n",
        "\n",
        "print(x)"
      ]
    },
    {
      "cell_type": "code",
      "execution_count": null,
      "id": "aff109ff",
      "metadata": {
        "id": "aff109ff",
        "outputId": "2ab7dab8-9e46-4df9-807c-8346c14edb8b"
      },
      "outputs": [
        {
          "name": "stdout",
          "output_type": "stream",
          "text": [
            "    number string       Date  Duration\n",
            "0        1    one 2020-01-12       100\n",
            "1        2    one 2020-02-12       100\n",
            "2        3    one 2020-03-12       100\n",
            "3        4    one 2020-04-12       100\n",
            "4        5    one 2020-05-12       100\n",
            "5        6    one 2020-06-12       100\n",
            "6        7    one 2020-07-12       100\n",
            "7        8    one 2020-08-12        50\n",
            "8        9    one 2020-09-12       100\n",
            "9       10    one 2020-10-12       100\n",
            "10      11    one 2020-11-12       100\n",
            "11      12    one 2020-12-12       100\n",
            "12      13    two 2020-12-13       100\n",
            "13      14    one 2050-11-25       100\n",
            "14      15    two 2020-12-15       100\n",
            "15      16    two 2020-12-16       100\n",
            "16      17    one 2020-12-17       100\n",
            "17      18    two 2020-12-18       100\n",
            "18      19    two 2021-12-19       100\n",
            "19      20    one 2000-03-01       100\n",
            "20      21    two 2020-12-21       100\n",
            "21      22    two 2020-11-12       100\n",
            "22      23    one 2020-12-23       100\n",
            "23      24    two 2020-12-24       100\n",
            "24      25    two 2020-12-25       100\n",
            "25      26    one 2020-12-26       100\n",
            "26      27    two 2020-12-27       100\n",
            "27      28    two 2020-12-28       100\n",
            "28      29    one 2020-02-12       100\n",
            "29      30    two 2020-12-30       100\n",
            "30      31    two 2020-12-31       100\n",
            "31      32    one 2021-01-01       100\n",
            "32      33    two 2021-02-01       100\n",
            "33      34    two 2021-03-01       100\n",
            "34      35    one 2021-04-01       100\n",
            "35      36    two 2021-05-01       100\n",
            "36      37    two 2021-06-01       100\n",
            "37      38    one 2021-07-01       100\n",
            "38      39    two 2021-08-01       100\n",
            "39      40    two 2021-09-01       100\n",
            "40      41    one 2021-10-01       100\n",
            "41      42    two 2021-11-01       100\n",
            "42      43    two 2021-12-01       100\n",
            "43      44    one 2021-01-13       100\n",
            "44      45    two 2021-01-14       100\n",
            "45      46    two 2021-01-15       100\n",
            "46      47    one 2021-01-16       100\n",
            "47      48    two 2020-12-23       100\n",
            "48      49    two 2021-01-18       100\n",
            "49      50    one 2021-01-19       100\n",
            "50      51    two 2021-01-20       100\n",
            "51      52    two 2021-01-21       100\n",
            "52      53    one 2021-01-22       100\n",
            "53      54    two 2021-01-23       100\n",
            "54      55    two 2021-01-24       100\n",
            "55      56    one 2021-01-25       100\n",
            "56      57    two 2021-01-26       100\n",
            "57      58    two 2021-01-27       100\n",
            "58      59    one 2021-01-28       100\n",
            "59      60    two 2021-01-29       100\n",
            "60      61    two 2021-01-30       100\n",
            "61      62    one 2021-01-31       100\n",
            "62      63    two 2021-01-02       100\n",
            "63      64    two 2021-02-02       100\n",
            "64      65    one 2021-03-02       100\n",
            "65      66    two 2021-04-02       100\n",
            "66      67    two 2021-05-02       100\n",
            "67      68    one 2021-06-02        97\n",
            "68      69    two 2021-01-15        98\n",
            "69      70    two 2021-08-02        99\n",
            "70      71    one 2021-09-02       100\n",
            "71      72    two 2021-10-02       101\n",
            "72      73    two 2021-11-02       102\n",
            "73      74    one 2021-12-02       103\n",
            "74      75    two 2021-02-13       104\n",
            "75      76    one 2021-02-14       105\n",
            "76      77    two 2021-02-15       106\n",
            "77      78    one 2021-02-16       107\n",
            "78      79    one 2021-02-17       108\n",
            "79      80    one 2021-02-18       109\n",
            "80      81    two 2021-02-19       110\n",
            "81      82    one 2021-02-20       111\n",
            "82      83    two 2021-02-21       112\n",
            "83      84    one 2021-02-22       113\n",
            "84      85    one 2021-02-23       114\n",
            "85      86    one 2021-02-24       115\n",
            "86      87    two 2021-02-25       116\n"
          ]
        }
      ],
      "source": [
        "import pandas\n",
        "\n",
        "\n",
        "a = pandas.read_csv(\"data.csv\")\n",
        "\n",
        "\n",
        "a[\"Date\"] = pandas.to_datetime(a['Date'])\n",
        "\n",
        "a.loc[7,'Duration'] = 50\n",
        "\n",
        "print(a.to_string())\n",
        "\n",
        "\n",
        "\n",
        "\n"
      ]
    },
    {
      "cell_type": "code",
      "execution_count": null,
      "id": "db89ef11",
      "metadata": {
        "id": "db89ef11",
        "outputId": "3c3c049e-9e63-40bc-a6f9-4cd78da0b7e8"
      },
      "outputs": [
        {
          "name": "stdout",
          "output_type": "stream",
          "text": [
            "    number string      Date  Duration\n",
            "0        1    one  01-12-20       100\n",
            "1        2    one  02-12-20       100\n",
            "2        3    one  03-12-20       100\n",
            "3        4    one  04-12-20       100\n",
            "4        5    one  05-12-20       100\n",
            "5        6    one  06-12-20       100\n",
            "6        7    one  07-12-20       100\n",
            "7        8    one  08-12-20       100\n",
            "8        9    one  09-12-20       100\n",
            "9       10    one  10-12-20       100\n",
            "10      11    one  11-12-20       100\n",
            "11      12    one  12-12-20       100\n",
            "12      13    two  13-12-20       100\n",
            "13      14    one  25-11-50       100\n",
            "14      15    two  15-12-20       100\n",
            "15      16    two  16-12-20       100\n",
            "16      17    one  17-12-20       100\n",
            "17      18    two  18-12-20       100\n",
            "18      19    two  19-12-21       100\n",
            "19      20    one  03-01-00       100\n",
            "20      21    two  21-12-20       100\n",
            "21      22    two    111220       100\n",
            "22      23    one  23-12-20       100\n",
            "23      24    two  24-12-20       100\n",
            "24      25    two  25-12-20       100\n",
            "25      26    one  26-12-20       100\n",
            "26      27    two  27-12-20       100\n",
            "27      28    two  28-12-20       100\n",
            "28      29    one  02-12-20       100\n",
            "29      30    two  30-12-20       100\n",
            "30      31    two  31-12-20       100\n",
            "31      32    one  01-01-21       100\n",
            "32      33    two  02-01-21       100\n",
            "33      34    two  03-01-21       100\n",
            "34      35    one  04-01-21       100\n",
            "35      36    two  05-01-21       100\n",
            "36      37    two  06-01-21       100\n",
            "37      38    one  07-01-21       100\n",
            "38      39    two  08-01-21       100\n",
            "39      40    two  09-01-21       100\n",
            "40      41    one  10-01-21       100\n",
            "41      42    two  11-01-21       100\n",
            "42      43    two  12-01-21       100\n",
            "43      44    one  13-01-21       100\n",
            "44      45    two  14-01-21       100\n",
            "45      46    two  15-01-21       100\n",
            "46      47    one  16-01-21       100\n",
            "47      48    two  23-12-20       100\n",
            "48      49    two  18-01-21       100\n",
            "49      50    one  19-01-21       100\n",
            "50      51    two  20-01-21       100\n",
            "51      52    two  21-01-21       100\n",
            "52      53    one  22-01-21       100\n",
            "53      54    two  23-01-21       100\n",
            "54      55    two  24-01-21       100\n",
            "55      56    one  25-01-21       100\n",
            "56      57    two  26-01-21       100\n",
            "57      58    two  27-01-21       100\n",
            "58      59    one  28-01-21       100\n",
            "59      60    two  29-01-21       100\n",
            "60      61    two  30-01-21       100\n",
            "61      62    one  31-01-21       100\n",
            "62      63    two  01-02-21       100\n",
            "63      64    two  02-02-21       100\n",
            "64      65    one  03-02-21       100\n",
            "65      66    two  04-02-21       100\n",
            "66      67    two  05-02-21       100\n",
            "67      68    one  06-02-21        97\n",
            "68      69    two  15-01-21        98\n",
            "69      70    two  08-02-21        99\n",
            "70      71    one  09-02-21       100\n",
            "71      72    two  10-02-21       101\n",
            "72      73    two  11-02-21       102\n",
            "73      74    one  12-02-21       103\n",
            "74      75    two  13-02-21       104\n",
            "75      76    one  14-02-21       105\n",
            "76      77    two  15-02-21       106\n",
            "77      78    one  16-02-21       107\n",
            "78      79    one  17-02-21       108\n",
            "79      80    one  18-02-21       109\n",
            "80      81    two  19-02-21       110\n",
            "81      82    one  20-02-21       111\n",
            "82      83    two  21-02-21       112\n",
            "83      84    one  22-02-21       113\n",
            "84      85    one  23-02-21       114\n",
            "85      86    one  24-02-21       115\n",
            "86      87    two  25-02-21       116\n"
          ]
        }
      ],
      "source": [
        "import pandas\n",
        "\n",
        "\n",
        "a = pandas.read_csv(\"data.csv\")\n",
        "'''\n",
        "for as in a.index:\n",
        "    if a.loc[x,\"Duration\"] > 300:\n",
        "        a.loc[x,\"Duration\" = 10]\n",
        "'''\n",
        "\n",
        "\n",
        "print(a.to_string())\n",
        "\n"
      ]
    },
    {
      "cell_type": "code",
      "execution_count": null,
      "id": "43b22a8e",
      "metadata": {
        "id": "43b22a8e",
        "outputId": "8c37acd2-9e34-4ec0-9512-7bf1cbd57cb6"
      },
      "outputs": [
        {
          "name": "stdout",
          "output_type": "stream",
          "text": [
            "honda\n",
            "mercedes\n",
            "suzuki\n",
            "TATA\n",
            "proche\n",
            "Lambhorgini\n",
            "H\n",
            "e\n",
            "l\n",
            "l\n",
            "o\n",
            "W\n",
            "o\n",
            "r\n",
            "l\n",
            "d\n",
            "!\n",
            "!\n",
            "!\n",
            "!\n",
            "!\n"
          ]
        }
      ],
      "source": [
        "\n",
        "cars = [\"honda\",\"mercedes\",\"suzuki\",\"TATA\",\"proche\",\"Lambhorgini\"]\n",
        "\n",
        "\n",
        "for x in cars:\n",
        "    print(x)\n",
        "\n",
        "for a in \"HelloWorld!!!!!\":\n",
        "    print(a)\n",
        "\n",
        "\n",
        "\n",
        "\n"
      ]
    },
    {
      "cell_type": "code",
      "execution_count": null,
      "id": "2cbb8b1e",
      "metadata": {
        "id": "2cbb8b1e",
        "outputId": "4df84710-a17e-44fa-b114-0862ae91247c"
      },
      "outputs": [
        {
          "name": "stdout",
          "output_type": "stream",
          "text": [
            "    number string      Date  Duration\n",
            "0        1    one  01-12-20       100\n",
            "1        2    one  02-12-20       100\n",
            "2        3    one  03-12-20       100\n",
            "3        4    one  04-12-20       100\n",
            "4        5    one  05-12-20       100\n",
            "5        6    one  06-12-20       100\n",
            "6        7    one  07-12-20       100\n",
            "7        8    one  08-12-20       100\n",
            "8        9    one  09-12-20       100\n",
            "9       10    one  10-12-20       100\n",
            "10      11    one  11-12-20       100\n",
            "11      12    one  12-12-20       100\n",
            "12      13    two  13-12-20       100\n",
            "13      14    one  25-11-50       100\n",
            "14      15    two  15-12-20       100\n",
            "15      16    two  16-12-20       100\n",
            "16      17    one  17-12-20       100\n",
            "17      18    two  18-12-20       100\n",
            "18      19    two  19-12-21       100\n",
            "19      20    one  03-01-00       100\n",
            "20      21    two  21-12-20       100\n",
            "21      22    two    111220       100\n",
            "22      23    one  23-12-20       100\n",
            "23      24    two  24-12-20       100\n",
            "24      25    two  25-12-20       100\n",
            "25      26    one  26-12-20       100\n",
            "26      27    two  27-12-20       100\n",
            "27      28    two  28-12-20       100\n",
            "28      29    one  02-12-20       100\n",
            "29      30    two  30-12-20       100\n",
            "30      31    two  31-12-20       100\n",
            "31      32    one  01-01-21       100\n",
            "32      33    two  02-01-21       100\n",
            "33      34    two  03-01-21       100\n",
            "34      35    one  04-01-21       100\n",
            "35      36    two  05-01-21       100\n",
            "36      37    two  06-01-21       100\n",
            "37      38    one  07-01-21       100\n",
            "38      39    two  08-01-21       100\n",
            "39      40    two  09-01-21       100\n",
            "40      41    one  10-01-21       100\n",
            "41      42    two  11-01-21       100\n",
            "42      43    two  12-01-21       100\n",
            "43      44    one  13-01-21       100\n",
            "44      45    two  14-01-21       100\n",
            "45      46    two  15-01-21       100\n",
            "46      47    one  16-01-21       100\n",
            "47      48    two  23-12-20       100\n",
            "48      49    two  18-01-21       100\n",
            "49      50    one  19-01-21       100\n",
            "50      51    two  20-01-21       100\n",
            "51      52    two  21-01-21       100\n",
            "52      53    one  22-01-21       100\n",
            "53      54    two  23-01-21       100\n",
            "54      55    two  24-01-21       100\n",
            "55      56    one  25-01-21       100\n",
            "56      57    two  26-01-21       100\n",
            "57      58    two  27-01-21       100\n",
            "58      59    one  28-01-21       100\n",
            "59      60    two  29-01-21       100\n",
            "60      61    two  30-01-21       100\n",
            "61      62    one  31-01-21       100\n",
            "62      63    two  01-02-21       100\n",
            "63      64    two  02-02-21       100\n",
            "64      65    one  03-02-21       100\n",
            "65      66    two  04-02-21       100\n",
            "66      67    two  05-02-21       100\n",
            "67      68    one  06-02-21        97\n",
            "68      69    two  15-01-21        98\n",
            "69      70    two  08-02-21        99\n",
            "70      71    one  09-02-21       100\n",
            "71      72    two  10-02-21       101\n",
            "72      73    two  11-02-21       102\n",
            "73      74    one  12-02-21       103\n",
            "74      75    two  13-02-21       104\n",
            "75      76    one  14-02-21       105\n",
            "76      77    two  15-02-21       106\n",
            "77      78    one  16-02-21       107\n",
            "78      79    one  17-02-21       108\n",
            "79      80    one  18-02-21       109\n",
            "80      81    two  19-02-21       110\n",
            "81      82    one  20-02-21       111\n",
            "82      83    two  21-02-21       112\n",
            "83      84    one  22-02-21       113\n",
            "84      85    one  23-02-21       114\n",
            "85      86    one  24-02-21       115\n",
            "86      87    two  25-02-21       116\n"
          ]
        }
      ],
      "source": [
        "import pandas\n",
        "\n",
        "\n",
        "a = pandas.read_csv(\"data.csv\")\n",
        "\n",
        "#print(a.duplicated())\n",
        "print(a.to_string())\n"
      ]
    },
    {
      "cell_type": "code",
      "execution_count": null,
      "id": "9341eeb4",
      "metadata": {
        "id": "9341eeb4",
        "outputId": "f5a55135-bef9-4880-95b6-bf77c908b305"
      },
      "outputs": [
        {
          "name": "stdout",
          "output_type": "stream",
          "text": [
            "0     False\n",
            "1     False\n",
            "2     False\n",
            "3     False\n",
            "4     False\n",
            "      ...  \n",
            "82    False\n",
            "83    False\n",
            "84    False\n",
            "85    False\n",
            "86    False\n",
            "Length: 87, dtype: bool\n"
          ]
        }
      ],
      "source": [
        "import pandas\n",
        "\n",
        "\n",
        "a = pandas.read_csv(\"data.csv\")\n",
        "\n",
        "print(a.duplicated())\n",
        "#print(a.to_string())"
      ]
    },
    {
      "cell_type": "code",
      "execution_count": null,
      "id": "7434b65f",
      "metadata": {
        "id": "7434b65f",
        "outputId": "0bb12587-1dbf-4aa4-ca55-0494f27d65fb"
      },
      "outputs": [
        {
          "name": "stdout",
          "output_type": "stream",
          "text": [
            "    number string      Date  Duration\n",
            "0        1    one  01-12-20       100\n",
            "1        2    one  02-12-20       100\n",
            "2        3    one  03-12-20       100\n",
            "3        4    one  04-12-20       100\n",
            "4        5    one  05-12-20       100\n",
            "..     ...    ...       ...       ...\n",
            "82      83    two  21-02-21       112\n",
            "83      84    one  22-02-21       113\n",
            "84      85    one  23-02-21       114\n",
            "85      86    one  24-02-21       115\n",
            "86      87    two  25-02-21       116\n",
            "\n",
            "[87 rows x 4 columns]\n"
          ]
        }
      ],
      "source": [
        "import pandas\n",
        "\n",
        "\n",
        "a = pandas.read_csv(\"data.csv\")\n",
        "\n",
        "print(a.drop_duplicates())\n",
        "#print(a.to_string())"
      ]
    },
    {
      "cell_type": "code",
      "execution_count": null,
      "id": "8e54e8f5",
      "metadata": {
        "id": "8e54e8f5",
        "outputId": "3bc1a08b-5604-4425-98bb-72091a167590"
      },
      "outputs": [
        {
          "name": "stdout",
          "output_type": "stream",
          "text": [
            "            number  Duration\n",
            "number    1.000000  0.590824\n",
            "Duration  0.590824  1.000000\n"
          ]
        }
      ],
      "source": [
        "\n",
        "\n",
        "import pandas\n",
        "\n",
        "\n",
        "a = pandas.read_csv(\"data.csv\")\n",
        "\n",
        "print(a.corr())\n",
        "#print(a.to_string())\n",
        "\n",
        "\n",
        "\n",
        "\n"
      ]
    },
    {
      "cell_type": "code",
      "execution_count": null,
      "id": "4c37c1e1",
      "metadata": {
        "id": "4c37c1e1",
        "outputId": "51b6954a-2de0-4428-f064-083b57ee94b0"
      },
      "outputs": [
        {
          "data": {
            "image/png": "[encoded data removed]",
            "text/plain": [
              "<Figure size 432x288 with 1 Axes>"
            ]
          },
          "metadata": {
            "needs_background": "light"
          },
          "output_type": "display_data"
        }
      ],
      "source": [
        "\n",
        "import pandas\n",
        "import matplotlib.pyplot as plt\n",
        "\n",
        "\n",
        "\n",
        "a = pandas.read_csv(\"data.csv\")\n",
        "a.plot()\n",
        "\n",
        "plt.show()\n",
        "\n"
      ]
    },
    {
      "cell_type": "code",
      "execution_count": null,
      "id": "1b79e726",
      "metadata": {
        "id": "1b79e726",
        "outputId": "1ba7ee55-725c-4df1-99ed-412f6e59403c"
      },
      "outputs": [
        {
          "data": {
            "image/png": "[encoded data removed]",
            "text/plain": [
              "<Figure size 432x288 with 1 Axes>"
            ]
          },
          "metadata": {
            "needs_background": "light"
          },
          "output_type": "display_data"
        }
      ],
      "source": [
        "\n",
        "import pandas\n",
        "import matplotlib.pyplot as plt\n",
        "\n",
        "\n",
        "\n",
        "a = pandas.read_csv(\"data.csv\")\n",
        "a.plot(x = 'number',y = 'Duration',color='red')\n",
        "\n",
        "plt.show()"
      ]
    },
    {
      "cell_type": "code",
      "execution_count": null,
      "id": "41b27f22",
      "metadata": {
        "id": "41b27f22",
        "outputId": "66a2b493-8e3d-4a58-b81f-9b7e9ebde8da"
      },
      "outputs": [
        {
          "data": {
            "image/png": "[encoded data removed]",
            "text/plain": [
              "<Figure size 432x288 with 1 Axes>"
            ]
          },
          "metadata": {
            "needs_background": "light"
          },
          "output_type": "display_data"
        }
      ],
      "source": [
        "import matplotlib.pyplot\n",
        "\n",
        "x = [8,6,4,5,7,8,9,6,5,4,8,7,5,4,8,7,8,4,9]\n",
        "y = [99,85,78,75,78,49,78,74,70,85,80,94,68,69,87,69,63,87,60]\n",
        "\n",
        "plt.scatter(x,y)\n",
        "plt.show()\n",
        "\n",
        "\n"
      ]
    },
    {
      "cell_type": "code",
      "execution_count": null,
      "id": "6ea32412",
      "metadata": {
        "id": "6ea32412",
        "outputId": "4bb6581a-d023-41fb-8aa4-9e3cd858ec00"
      },
      "outputs": [
        {
          "name": "stdout",
          "output_type": "stream",
          "text": [
            "-0.09245799421563287\n"
          ]
        },
        {
          "data": {
            "image/png": "[encoded data removed]",
            "text/plain": [
              "<Figure size 432x288 with 1 Axes>"
            ]
          },
          "metadata": {
            "needs_background": "light"
          },
          "output_type": "display_data"
        }
      ],
      "source": [
        "\n",
        "import matplotlib.pyplot as plt\n",
        "from scipy import stats\n",
        "\n",
        "\n",
        "\n",
        "x = [8,6,4,5,7,8,9,6,5,4,8,7,5,4,8,7,8,4,9]\n",
        "y = [99,85,78,75,78,60,78,74,70,85,80,94,68,69,87,69,63,87,60]\n",
        "\n",
        "\n",
        "\n",
        "slope,intercept,r,p,std_err = stats.linregress(x,y)\n",
        "\n",
        "def xyz(x):\n",
        "    return slope * x+intercept\n",
        "\n",
        "\n",
        "life_expectancy = xyz(50)\n",
        "\n",
        "\n",
        "\n",
        "print(r)\n",
        "\n",
        "m_odel = list(map(xyz,x))\n",
        "\n",
        "\n",
        "plt.scatter(x,y)\n",
        "plt.plot(x,m_odel)\n",
        "plt.show()\n",
        "\n",
        "\n",
        "\n",
        "\n",
        "\n",
        "\n",
        "\n",
        "\n"
      ]
    },
    {
      "cell_type": "code",
      "execution_count": null,
      "id": "0b447a41",
      "metadata": {
        "id": "0b447a41",
        "outputId": "eab3ff28-3bfa-4ce7-f66a-b92a3a787432"
      },
      "outputs": [
        {
          "name": "stdout",
          "output_type": "stream",
          "text": [
            "<map object at 0x000001A30EB81C70>\n",
            "[8, 12, 6]\n"
          ]
        }
      ],
      "source": [
        "\n",
        "def xyz(a):\n",
        "    return len(a)\n",
        "\n",
        "\n",
        "x = map(xyz,('mercedes','lambhorghini','toyota'))\n",
        "\n",
        "print(x)\n",
        "\n",
        "\n",
        "print(list(x))\n",
        "\n",
        "\n"
      ]
    },
    {
      "cell_type": "code",
      "execution_count": null,
      "id": "09d7257a",
      "metadata": {
        "id": "09d7257a",
        "outputId": "7bcbcea8-5bcc-4f9e-c260-f90b1f6011ba"
      },
      "outputs": [
        {
          "name": "stdout",
          "output_type": "stream",
          "text": [
            "10\n"
          ]
        }
      ],
      "source": [
        "\n",
        "def math_expert(a,b):   # I am defining the function over here.\n",
        "    result = a+b\n",
        "    print (result)\n",
        "\n",
        "\n",
        "\n",
        "\n",
        "\n",
        "math_expert(2,8)     # I am calling the function over here\n",
        "\n",
        "\n",
        "\n",
        "\n",
        "\n",
        "\n",
        "\n",
        "\n"
      ]
    },
    {
      "cell_type": "code",
      "execution_count": null,
      "id": "99317fa2",
      "metadata": {
        "id": "99317fa2",
        "outputId": "ce90bc81-0dba-49fd-a6fb-fd09644e1575"
      },
      "outputs": [
        {
          "data": {
            "image/png": "[encoded data removed]",
            "text/plain": [
              "<Figure size 432x288 with 1 Axes>"
            ]
          },
          "metadata": {
            "needs_background": "light"
          },
          "output_type": "display_data"
        }
      ],
      "source": [
        "\n",
        "import matplotlib.pyplot as plt\n",
        "\n",
        "x = [1,2,4,5,6,7,8,9,10,12,13,14,15,16,18,19,21,22]\n",
        "\n",
        "y = [100,90,80,60,60,55,60,65,70,70,75,76,78,79,90,99,99,100]\n",
        "\n",
        "plt.scatter(x,y)\n",
        "\n",
        "plt.show()\n",
        "\n",
        "\n",
        "\n"
      ]
    },
    {
      "cell_type": "code",
      "execution_count": null,
      "id": "53c235c1",
      "metadata": {
        "id": "53c235c1",
        "outputId": "6b9c1b10-8636-4fcf-c177-27705ced21be"
      },
      "outputs": [
        {
          "data": {
            "image/png": "[encoded data removed]",
            "text/plain": [
              "<Figure size 432x288 with 1 Axes>"
            ]
          },
          "metadata": {
            "needs_background": "light"
          },
          "output_type": "display_data"
        }
      ],
      "source": [
        "import numpy\n",
        "import matplotlib.pyplot as plt\n",
        "\n",
        "x = [1,2,4,5,6,7,8,9,10,12,13,14,15,16,18,19,21,22]    //Input\n",
        "\n",
        "\n",
        "y = [100,90,80,60,60,55,60,65,70,70,75,76,78,79,90,99,99,100]  //Output\n",
        "\n",
        "\n",
        "\n",
        "\n",
        "m = numpy.poly1d(numpy.polyfit(x,y,3))\n",
        "\n",
        "line = numpy.linspace(1,22,10000)\n",
        "\n",
        "plt.scatter(x,y)\n",
        "\n",
        "plt.plot(line,m(line))\n",
        "\n",
        "plt.show()\n"
      ]
    },
    {
      "cell_type": "code",
      "execution_count": null,
      "id": "72e31aa3",
      "metadata": {
        "id": "72e31aa3"
      },
      "outputs": [],
      "source": []
    }
  ],
  "metadata": {
    "kernelspec": {
      "display_name": "Python 3",
      "language": "python",
      "name": "python3"
    },
    "language_info": {
      "codemirror_mode": {
        "name": "ipython",
        "version": 3
      },
      "file_extension": ".py",
      "mimetype": "text/x-python",
      "name": "python",
      "nbconvert_exporter": "python",
      "pygments_lexer": "ipython3",
      "version": "3.8.8"
    },
    "colab": {
      "provenance": []
    }
  },
  "nbformat": 4,
  "nbformat_minor": 5
}